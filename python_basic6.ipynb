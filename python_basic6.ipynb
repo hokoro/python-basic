{
  "nbformat": 4,
  "nbformat_minor": 0,
  "metadata": {
    "colab": {
      "name": "python_basic6.ipynb",
      "provenance": [],
      "authorship_tag": "ABX9TyPpv1Vfp7eD6kNWylXCVdM1",
      "include_colab_link": true
    },
    "kernelspec": {
      "name": "python3",
      "display_name": "Python 3"
    },
    "language_info": {
      "name": "python"
    }
  },
  "cells": [
    {
      "cell_type": "markdown",
      "metadata": {
        "id": "view-in-github",
        "colab_type": "text"
      },
      "source": [
        "<a href=\"https://colab.research.google.com/github/hokoro/python-basic/blob/main/python_basic6.ipynb\" target=\"_parent\"><img src=\"https://colab.research.google.com/assets/colab-badge.svg\" alt=\"Open In Colab\"/></a>"
      ]
    },
    {
      "cell_type": "code",
      "execution_count": 2,
      "metadata": {
        "colab": {
          "base_uri": "https://localhost:8080/"
        },
        "id": "eKeUGPY8aHf_",
        "outputId": "acf763a9-d71e-4879-eeb8-0654af39ae27"
      },
      "outputs": [
        {
          "output_type": "stream",
          "name": "stdout",
          "text": [
            "BTC_KRW\n"
          ]
        }
      ],
      "source": [
        "data = \"btc_krw\"\n",
        "\n",
        "print(data.upper())"
      ]
    },
    {
      "cell_type": "code",
      "source": [
        "data = \"BTC_KRW\"\n",
        "\n",
        "print(data.lower())"
      ],
      "metadata": {
        "colab": {
          "base_uri": "https://localhost:8080/"
        },
        "id": "uXnS3rb1at1t",
        "outputId": "cbe8328b-f2f1-4765-e75d-16c70b404e10"
      },
      "execution_count": 3,
      "outputs": [
        {
          "output_type": "stream",
          "name": "stdout",
          "text": [
            "btc_krw\n"
          ]
        }
      ]
    },
    {
      "cell_type": "code",
      "source": [
        "data = 'hello'\n",
        "\n",
        "print(data.capitalize())"
      ],
      "metadata": {
        "colab": {
          "base_uri": "https://localhost:8080/"
        },
        "id": "QwbWT8kbbC6M",
        "outputId": "c54b0730-ce98-4948-d93c-81e950bdc7ce"
      },
      "execution_count": 4,
      "outputs": [
        {
          "output_type": "stream",
          "name": "stdout",
          "text": [
            "Hello\n"
          ]
        }
      ]
    },
    {
      "cell_type": "code",
      "source": [
        "file_name = \"보고서.xlsx\"\n",
        "if file_name.endswith('xlsx'):\n",
        "  print(\"True\")"
      ],
      "metadata": {
        "colab": {
          "base_uri": "https://localhost:8080/"
        },
        "id": "jobJ6BxubP4d",
        "outputId": "c2b6b6d5-86f6-4863-a97c-088f6e170c73"
      },
      "execution_count": 5,
      "outputs": [
        {
          "output_type": "stream",
          "name": "stdout",
          "text": [
            "True\n"
          ]
        }
      ]
    },
    {
      "cell_type": "code",
      "source": [
        "file_name = \"2020_보고서.xlsx\"\n",
        "file_name.startswith('2020')"
      ],
      "metadata": {
        "colab": {
          "base_uri": "https://localhost:8080/"
        },
        "id": "k7t_os4Ebn_5",
        "outputId": "09696b82-bee3-4895-b198-3a18aec8d160"
      },
      "execution_count": 6,
      "outputs": [
        {
          "output_type": "execute_result",
          "data": {
            "text/plain": [
              "True"
            ]
          },
          "metadata": {},
          "execution_count": 6
        }
      ]
    },
    {
      "cell_type": "code",
      "source": [
        "data = \"hello world\"\n",
        "\n",
        "print(data.split(' '))"
      ],
      "metadata": {
        "colab": {
          "base_uri": "https://localhost:8080/"
        },
        "id": "qhjruFU5b0Wc",
        "outputId": "fa33846e-2d68-4468-e75a-c465336f24fb"
      },
      "execution_count": 7,
      "outputs": [
        {
          "output_type": "stream",
          "name": "stdout",
          "text": [
            "['hello', 'world']\n"
          ]
        }
      ]
    },
    {
      "cell_type": "code",
      "source": [
        "data = 'btc_krw'\n",
        "print(data.split('_'))"
      ],
      "metadata": {
        "colab": {
          "base_uri": "https://localhost:8080/"
        },
        "id": "qqpyoH_acE5C",
        "outputId": "d9a05abd-7c3f-44e7-dfdc-cb4521cf586f"
      },
      "execution_count": 8,
      "outputs": [
        {
          "output_type": "stream",
          "name": "stdout",
          "text": [
            "['btc', 'krw']\n"
          ]
        }
      ]
    },
    {
      "cell_type": "code",
      "source": [
        "data = '2020-05-01'\n",
        "print(data.split('-'))"
      ],
      "metadata": {
        "colab": {
          "base_uri": "https://localhost:8080/"
        },
        "id": "Yn-I-eh_cKQl",
        "outputId": "b5ee98b6-e181-4624-8b47-0a98037f6274"
      },
      "execution_count": 9,
      "outputs": [
        {
          "output_type": "stream",
          "name": "stdout",
          "text": [
            "['2020', '05', '01']\n"
          ]
        }
      ]
    },
    {
      "cell_type": "code",
      "source": [
        "data = \"039490    \"\n",
        "print(data.rstrip())"
      ],
      "metadata": {
        "colab": {
          "base_uri": "https://localhost:8080/"
        },
        "id": "keWUK459cOTM",
        "outputId": "99426604-6975-4d96-a702-6af15d47573c"
      },
      "execution_count": 10,
      "outputs": [
        {
          "output_type": "stream",
          "name": "stdout",
          "text": [
            "039490\n"
          ]
        }
      ]
    },
    {
      "cell_type": "code",
      "source": [
        ""
      ],
      "metadata": {
        "id": "qSapldNacWnC"
      },
      "execution_count": null,
      "outputs": []
    }
  ]
}