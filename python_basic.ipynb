{
  "nbformat": 4,
  "nbformat_minor": 0,
  "metadata": {
    "colab": {
      "name": "python-basic.ipynb",
      "provenance": [],
      "collapsed_sections": [],
      "authorship_tag": "ABX9TyOkzZTkNXgUzsJPjrMYL1KR",
      "include_colab_link": true
    },
    "kernelspec": {
      "name": "python3",
      "display_name": "Python 3"
    },
    "language_info": {
      "name": "python"
    }
  },
  "cells": [
    {
      "cell_type": "markdown",
      "metadata": {
        "id": "view-in-github",
        "colab_type": "text"
      },
      "source": [
        "<a href=\"https://colab.research.google.com/github/hokoro/python-basic/blob/main/python_basic.ipynb\" target=\"_parent\"><img src=\"https://colab.research.google.com/assets/colab-badge.svg\" alt=\"Open In Colab\"/></a>"
      ]
    },
    {
      "cell_type": "markdown",
      "source": [
        "####1.변수 name을 선언하고 키보드로부터 자신의 이름을 입력 받아 출력하는 프로그램을 작성하시오.\n"
      ],
      "metadata": {
        "id": "JLOiuqCn0Iug"
      }
    },
    {
      "cell_type": "code",
      "execution_count": 1,
      "metadata": {
        "colab": {
          "base_uri": "https://localhost:8080/"
        },
        "id": "U7DHA0w70FOO",
        "outputId": "ae8eb1c6-3aab-4a1f-cc68-3a9197907ebc"
      },
      "outputs": [
        {
          "output_type": "stream",
          "name": "stdout",
          "text": [
            "이름이 무엇입니까? : 천영성\n",
            "저의 이름은천영성입니다\n"
          ]
        }
      ],
      "source": [
        "name = input('이름이 무엇입니까? : ')\n",
        "print('저의 이름은 ' + name +' 입니다')"
      ]
    },
    {
      "cell_type": "markdown",
      "source": [
        "####2. 변수 age에 나이를 입력받아, 100살을 더한 후 출력하는 프로그램을 작성하시오.\n"
      ],
      "metadata": {
        "id": "To6agkiG0gL8"
      }
    },
    {
      "cell_type": "code",
      "source": [
        "age = int(input('당신의 나이는 몇살 입니까 ? : '))\n",
        "print('나는 '+ str(age+100) + '살 입니다')"
      ],
      "metadata": {
        "colab": {
          "base_uri": "https://localhost:8080/"
        },
        "id": "LoYQ09Ve0kjt",
        "outputId": "a5baa3b2-b0b7-4324-8c5a-b618bf7e0a58"
      },
      "execution_count": 3,
      "outputs": [
        {
          "output_type": "stream",
          "name": "stdout",
          "text": [
            "당신의 나이는 몇살 입니까 ? : 26\n",
            "나는 126살 입니다\n"
          ]
        }
      ]
    },
    {
      "cell_type": "markdown",
      "source": [
        "####3. 두 점(x1,y1) (x2,y2)의 값을 입력받아, 두 점의 거리를 계산하여 출력하시오.\n"
      ],
      "metadata": {
        "id": "qjpK-qki0wBL"
      }
    },
    {
      "cell_type": "code",
      "source": [
        "import math\n",
        "x1,y1 = map(int,input().split())\n",
        "x2,y2 = map(int,input().split())\n",
        "\n",
        "distance = ((x2-x1) **2 + (y2-y1) **2) ** 0.5 \n",
        "print(distance)"
      ],
      "metadata": {
        "colab": {
          "base_uri": "https://localhost:8080/"
        },
        "id": "42eoE_dj0z3A",
        "outputId": "50a80a76-3f8e-4ec5-e9a0-206069b9b637"
      },
      "execution_count": 8,
      "outputs": [
        {
          "output_type": "stream",
          "name": "stdout",
          "text": [
            "1 1 \n",
            "2 2 \n",
            "1.4142135623730951\n"
          ]
        }
      ]
    },
    {
      "cell_type": "markdown",
      "source": [
        "####4.임의 수 no1과 no2를 입력받아, no1이 no2보다 크면, 두수의 합을 no1이 no2보다 작으면 두수의 곱을 출력하는 프로그램을 작성하시오."
      ],
      "metadata": {
        "id": "8GifWFUD1QR3"
      }
    },
    {
      "cell_type": "code",
      "source": [
        "no1 = int(input())\n",
        "no2 = int(input())\n",
        "\n",
        "if no1 < no2:\n",
        "  print(no1 * no2) \n",
        "elif no1 > no2 :\n",
        "  print(no1 + no2)"
      ],
      "metadata": {
        "colab": {
          "base_uri": "https://localhost:8080/"
        },
        "id": "AMhKToTH1Q2J",
        "outputId": "4077be16-b8cf-4ee9-a8db-ac9a2a7b856d"
      },
      "execution_count": 10,
      "outputs": [
        {
          "output_type": "stream",
          "name": "stdout",
          "text": [
            "1\n",
            "3\n",
            "3\n"
          ]
        }
      ]
    },
    {
      "cell_type": "markdown",
      "source": [
        "####5. 아래 소스를 살펴보고 4행과 5행의 소스를 한행으로 표현하시오.\n",
        "\n",
        "1. import random\n",
        "\n",
        "2. no1 = random.randint(1,9)\n",
        "\n",
        "3. no2 = random.randint(1,9)\n",
        "\n",
        "4. print(“입력된 값”,no1, “과”, no2,“합은?”)\n",
        "\n",
        "5. answer = int(input())\n"
      ],
      "metadata": {
        "id": "wn7AFdzy1LxG"
      }
    },
    {
      "cell_type": "code",
      "source": [
        "import random\n",
        "no1 = random.randint(1,9)\n",
        "no2 = random.randint(1,9)\n",
        "answer = int(input('입력된 값 ' + str(no1) +  '과 ' + str(no2) + \"  합은? \" ))\n",
        "if no1 + no2 == answer:\n",
        "  print(\"정답\")\n",
        "else:\n",
        "  print(\"오답\")\n"
      ],
      "metadata": {
        "colab": {
          "base_uri": "https://localhost:8080/"
        },
        "id": "kG4nIv6V1h4y",
        "outputId": "cf5c85e4-858e-4e66-97c5-7b5fcfa5cb37"
      },
      "execution_count": 11,
      "outputs": [
        {
          "name": "stdout",
          "output_type": "stream",
          "text": [
            "입력된 값 4과 3  합은? 7\n"
          ]
        }
      ]
    },
    {
      "cell_type": "markdown",
      "source": [
        "####6. range()를 사용하여 1부터 100까지 사이의 짝수를 출력하는 프로그램을 작성하시오.\n"
      ],
      "metadata": {
        "id": "W1S0kHcS2PIt"
      }
    },
    {
      "cell_type": "code",
      "source": [
        "for i in range(1,101):\n",
        "  if i % 2 == 0:\n",
        "    print(i)"
      ],
      "metadata": {
        "colab": {
          "base_uri": "https://localhost:8080/"
        },
        "id": "a38gL7eK1O-2",
        "outputId": "32eb51ee-2de1-401a-a4ff-01e693441839"
      },
      "execution_count": 12,
      "outputs": [
        {
          "output_type": "stream",
          "name": "stdout",
          "text": [
            "2\n",
            "4\n",
            "6\n",
            "8\n",
            "10\n",
            "12\n",
            "14\n",
            "16\n",
            "18\n",
            "20\n",
            "22\n",
            "24\n",
            "26\n",
            "28\n",
            "30\n",
            "32\n",
            "34\n",
            "36\n",
            "38\n",
            "40\n",
            "42\n",
            "44\n",
            "46\n",
            "48\n",
            "50\n",
            "52\n",
            "54\n",
            "56\n",
            "58\n",
            "60\n",
            "62\n",
            "64\n",
            "66\n",
            "68\n",
            "70\n",
            "72\n",
            "74\n",
            "76\n",
            "78\n",
            "80\n",
            "82\n",
            "84\n",
            "86\n",
            "88\n",
            "90\n",
            "92\n",
            "94\n",
            "96\n",
            "98\n",
            "100\n"
          ]
        }
      ]
    },
    {
      "cell_type": "markdown",
      "source": [
        "####7. 두 수 no1, no2를 입력 받아 두수의 합을 계산하는 프로그램을 작성하시오. 단, 두 수를 인수로 넘겨 받아 합을 전달하는 함수 add 만들어 사용하시오.\n"
      ],
      "metadata": {
        "id": "NYUuqp1S2RFv"
      }
    },
    {
      "cell_type": "code",
      "source": [
        "def add(no1, no2):\n",
        "  return no1 + no2 \n",
        "\n",
        "no1 = int(input())\n",
        "no2 = int(input())\n",
        "\n",
        "print(add(no1 , no2))\n"
      ],
      "metadata": {
        "colab": {
          "base_uri": "https://localhost:8080/"
        },
        "id": "BnIoCmGo2TLs",
        "outputId": "1c76a2b0-72d3-450d-8cc8-66f9ababdf14"
      },
      "execution_count": 13,
      "outputs": [
        {
          "output_type": "stream",
          "name": "stdout",
          "text": [
            "5\n",
            "5\n",
            "10\n"
          ]
        }
      ]
    },
    {
      "cell_type": "markdown",
      "source": [
        "####8. 다음 코드의 결과는?\n",
        "\n",
        "a = 3.5\n",
        "\n",
        "b = int(3.5)\n",
        "\n",
        "print(a**((a//b)*2)) => 12.25\n",
        "\n",
        "print(((a-b) * a) // b) => 0.0\n",
        "\n",
        "b = (((a-b) * a) % b)\n",
        "\n",
        "print(b) => 1.75\n",
        "\n",
        "print((a * 4) % (b*4)) =>0.0\n",
        "\n",
        "a = ‘3’\n",
        "\n",
        "b = float(a)\n",
        "\n",
        "print(b**int(a)) => 27.0\n",
        "\n",
        "a = [0,1,2,3,4]\n",
        "\n",
        "print(a[:3], a[:-3]) => [0,1,2] [0,1]\n",
        "\n",
        " \n",
        "\n",
        "print(“%10s”%(“흐드러진 벚꽃”)) =>오른쪽 정렬\n",
        "\n",
        "print(“{:10s}”.format(“흐드러진 벚꽃”)) => 왼쪽 정렬\n",
        "\n",
        "print(“{:$^10s}”.format(“흐드러진 벚꽃”))\n",
        "\n",
        " \n",
        "\n",
        "a = [0,1,2,3,4]\n",
        "\n",
        "print(a[::-1])\n",
        "\n",
        " \n",
        "\n",
        "no = [1,2,3,4]\n",
        "\n",
        "print(no * 2)\n",
        "\n",
        " \n",
        "\n",
        "def cal(a, b, c):\n",
        "\n",
        "return b + a * c + b\n",
        "\n",
        " \n",
        "\n",
        "print(cal(3,4,5) == 63)\n",
        "\n",
        " \n",
        "\n",
        "a = 11\n",
        "\n",
        "b = 9\n",
        "\n",
        " \n",
        "\n",
        "print(‘a’+’b’)\n"
      ],
      "metadata": {
        "id": "I-VhKEtS2cct"
      }
    },
    {
      "cell_type": "code",
      "source": [
        "a = 3.5\n",
        "\n",
        "b = int(3.5)\n",
        "\n",
        "print(a**((a//b)*2))\n",
        "\n",
        "print(((a-b) * a) // b)\n",
        "\n",
        "print(((a-b) * a)%b)\n",
        "\n",
        "b = (((a-b) * a) % b)\n",
        "\n",
        "print(a,b)\n",
        "\n",
        "print((a*4) % (b*4))\n",
        "\n",
        "a = '3'\n",
        "\n",
        "b = float(a)\n",
        "\n",
        "print(b ** int(a))\n",
        "\n",
        "a = [0,1,2,3,4]\n",
        "\n",
        "print(a[:3] , a[:-3])\n",
        "\n",
        "print('%10s'%('흐드러진 벛꽃')) \n",
        "print('{:10s}'.format('흐드러진 벛꽃'))\n",
        "print(\"{:$^10s}\".format(\"흐드러진 벚꽃\")) #가운데 정령  + 빈공간 $ 로채우기 \n",
        "\n",
        "a = [0,1,2,3,4]\n",
        "print(a[::-1])\n",
        "\n",
        "no = [1,2,3,4]\n",
        "\n",
        "print(no * 2)\n",
        "\n",
        "def cal(a, b, c):\n",
        "\n",
        "  return b + a * c + b\n",
        "\n",
        " \n",
        "\n",
        "print(cal(3,4,5) == 63)\n",
        "\n",
        " \n",
        "\n",
        "a = 11\n",
        "\n",
        "b = 9\n",
        "\n",
        " \n",
        "\n",
        "print('a'+ 'b')"
      ],
      "metadata": {
        "colab": {
          "base_uri": "https://localhost:8080/"
        },
        "id": "HfRVzR9X-gfm",
        "outputId": "30be7e25-77dc-4f4a-eae7-818268fa5447"
      },
      "execution_count": 18,
      "outputs": [
        {
          "output_type": "stream",
          "name": "stdout",
          "text": [
            "12.25\n",
            "0.0\n",
            "1.75\n",
            "3.5 1.75\n",
            "0.0\n",
            "27.0\n",
            "[0, 1, 2] [0, 1]\n",
            "   흐드러진 벛꽃\n",
            "흐드러진 벛꽃   \n",
            "$흐드러진 벚꽃$$\n",
            "[4, 3, 2, 1, 0]\n",
            "[1, 2, 3, 4, 1, 2, 3, 4]\n",
            "False\n",
            "ab\n"
          ]
        }
      ]
    },
    {
      "cell_type": "code",
      "source": [
        "a = 3.5\n",
        "\n",
        "b = int(3.5)\n",
        "\n",
        "print(a**((a//b)*2)) #12.25\n",
        "\n",
        "print(((a-b) * a) // b) #0.0\n",
        "\n",
        "b = (((a-b) * a) % b) \n",
        "\n",
        "print(b)\n",
        "\n",
        "print((a * 4) % (b*4)) \n",
        "a = '3'\n",
        "\n",
        "b = float(a)\n",
        "\n",
        "print(b**int(a))\n",
        "\n",
        "a = [0,1,2,3,4]\n",
        "\n",
        "print(a[:3], a[:-3])\n",
        "\n",
        " \n",
        "\n",
        "print('%10s'%('흐드러진 벚꽃')) \n",
        "\n",
        "print(\"{:10s}\".format(\"흐드러진 벚꽃\")) \n",
        "\n",
        "print(\"{:$^10s}\".format(\"흐드러진 벚꽃\"))\n",
        "\n",
        " \n",
        "\n",
        "a = [0,1,2,3,4]\n",
        "\n",
        "print(a[::-1])\n",
        "\n",
        " \n",
        "\n",
        "no = [1,2,3,4]\n",
        "\n",
        "print(no * 2)\n",
        "\n",
        " \n",
        "\n",
        "def cal(a, b, c):\n",
        "\n",
        "  return b + a * c + b\n",
        "\n",
        " \n",
        "\n",
        "print(cal(3,4,5) == 63)\n",
        "\n",
        " \n",
        "\n",
        "a = 11\n",
        "\n",
        "b = 9\n",
        "\n",
        " \n",
        "\n",
        "print('a'+ 'b')\n"
      ],
      "metadata": {
        "colab": {
          "base_uri": "https://localhost:8080/"
        },
        "id": "uAM7GXeW8CTm",
        "outputId": "9cd48823-9d21-495e-e2ad-c46133518870"
      },
      "execution_count": 20,
      "outputs": [
        {
          "output_type": "stream",
          "name": "stdout",
          "text": [
            "12.25\n",
            "0.0\n",
            "0.5\n",
            "1.75\n",
            "0.0\n",
            "27.0\n",
            "[0, 1, 2] [0, 1]\n",
            "   흐드러진 벚꽃\n",
            "흐드러진 벚꽃   \n",
            "$흐드러진 벚꽃$$\n",
            "[4, 3, 2, 1, 0]\n",
            "[1, 2, 3, 4, 1, 2, 3, 4]\n",
            "False\n",
            "ab\n"
          ]
        }
      ]
    },
    {
      "cell_type": "code",
      "source": [
        "print(a-b)"
      ],
      "metadata": {
        "colab": {
          "base_uri": "https://localhost:8080/"
        },
        "id": "TQRyns9n8Qwz",
        "outputId": "6d6b84bf-d19f-4eeb-a18e-9966a6d4e516"
      },
      "execution_count": 21,
      "outputs": [
        {
          "output_type": "stream",
          "name": "stdout",
          "text": [
            "2\n"
          ]
        }
      ]
    },
    {
      "cell_type": "code",
      "source": [
        ""
      ],
      "metadata": {
        "id": "i5y3BQHC-dHg"
      },
      "execution_count": null,
      "outputs": []
    }
  ]
}