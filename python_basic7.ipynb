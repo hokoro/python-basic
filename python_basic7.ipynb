{
  "nbformat": 4,
  "nbformat_minor": 0,
  "metadata": {
    "colab": {
      "name": "python_basic7.ipynb",
      "provenance": [],
      "authorship_tag": "ABX9TyO0YrAxmeVW6BUt7r5hPyff",
      "include_colab_link": true
    },
    "kernelspec": {
      "name": "python3",
      "display_name": "Python 3"
    },
    "language_info": {
      "name": "python"
    }
  },
  "cells": [
    {
      "cell_type": "markdown",
      "metadata": {
        "id": "view-in-github",
        "colab_type": "text"
      },
      "source": [
        "<a href=\"https://colab.research.google.com/github/hokoro/python-basic/blob/main/python_basic7.ipynb\" target=\"_parent\"><img src=\"https://colab.research.google.com/assets/colab-badge.svg\" alt=\"Open In Colab\"/></a>"
      ]
    },
    {
      "cell_type": "code",
      "execution_count": 1,
      "metadata": {
        "id": "amFR9WWwcnaG"
      },
      "outputs": [],
      "source": [
        "movie_rank = ['닥터 스트레인지', '스플릿','럭키']"
      ]
    },
    {
      "cell_type": "code",
      "source": [
        "movie_rank.append('배트맨')"
      ],
      "metadata": {
        "id": "uVj4NYrGc7Am"
      },
      "execution_count": 2,
      "outputs": []
    },
    {
      "cell_type": "code",
      "source": [
        "movie_rank.insert(1,'슈퍼맨')"
      ],
      "metadata": {
        "id": "XJUYoAvAc-WF"
      },
      "execution_count": 3,
      "outputs": []
    },
    {
      "cell_type": "code",
      "source": [
        "movie_rank"
      ],
      "metadata": {
        "colab": {
          "base_uri": "https://localhost:8080/"
        },
        "id": "NaTLl6WedFXC",
        "outputId": "10af1ac5-155e-4766-b9e1-048231ac9d87"
      },
      "execution_count": 4,
      "outputs": [
        {
          "output_type": "execute_result",
          "data": {
            "text/plain": [
              "['닥터 스트레인지', '슈퍼맨', '스플릿', '럭키', '배트맨']"
            ]
          },
          "metadata": {},
          "execution_count": 4
        }
      ]
    },
    {
      "cell_type": "code",
      "source": [
        "movie_rank.pop(3)"
      ],
      "metadata": {
        "colab": {
          "base_uri": "https://localhost:8080/",
          "height": 35
        },
        "id": "AsjchbUgdHl6",
        "outputId": "3827cb56-4f09-4de7-ee37-91efb54fb98b"
      },
      "execution_count": 5,
      "outputs": [
        {
          "output_type": "execute_result",
          "data": {
            "text/plain": [
              "'럭키'"
            ],
            "application/vnd.google.colaboratory.intrinsic+json": {
              "type": "string"
            }
          },
          "metadata": {},
          "execution_count": 5
        }
      ]
    },
    {
      "cell_type": "code",
      "source": [
        "movie_rank"
      ],
      "metadata": {
        "colab": {
          "base_uri": "https://localhost:8080/"
        },
        "id": "f7GwNO4-dQrg",
        "outputId": "3ff9d4cb-e6fa-48ac-c07c-5b36a52bd7e3"
      },
      "execution_count": 6,
      "outputs": [
        {
          "output_type": "execute_result",
          "data": {
            "text/plain": [
              "['닥터 스트레인지', '슈퍼맨', '스플릿', '배트맨']"
            ]
          },
          "metadata": {},
          "execution_count": 6
        }
      ]
    },
    {
      "cell_type": "code",
      "source": [
        "movie_rank.pop(2)\n",
        "movie_rank.pop(2)"
      ],
      "metadata": {
        "colab": {
          "base_uri": "https://localhost:8080/",
          "height": 35
        },
        "id": "ndOO6_pQdSKr",
        "outputId": "f9ef4199-26ae-45ee-d760-08971a8efac6"
      },
      "execution_count": 7,
      "outputs": [
        {
          "output_type": "execute_result",
          "data": {
            "text/plain": [
              "'배트맨'"
            ],
            "application/vnd.google.colaboratory.intrinsic+json": {
              "type": "string"
            }
          },
          "metadata": {},
          "execution_count": 7
        }
      ]
    },
    {
      "cell_type": "code",
      "source": [
        "movie_rank"
      ],
      "metadata": {
        "colab": {
          "base_uri": "https://localhost:8080/"
        },
        "id": "wzJNokHddmZe",
        "outputId": "f81a84f9-92e3-45ba-ef05-6b32952e6db8"
      },
      "execution_count": 8,
      "outputs": [
        {
          "output_type": "execute_result",
          "data": {
            "text/plain": [
              "['닥터 스트레인지', '슈퍼맨']"
            ]
          },
          "metadata": {},
          "execution_count": 8
        }
      ]
    },
    {
      "cell_type": "code",
      "source": [
        "lang1 = [\"C\",\"C++\",\"JAVA\"]\n",
        "lang2 = [\"Python\",\"Go\",\"C#\"]\n",
        "\n",
        "langs = lang1 + lang2"
      ],
      "metadata": {
        "id": "qQti67Eydnnp"
      },
      "execution_count": 9,
      "outputs": []
    },
    {
      "cell_type": "code",
      "source": [
        "langs"
      ],
      "metadata": {
        "colab": {
          "base_uri": "https://localhost:8080/"
        },
        "id": "WfFMVXjadyq0",
        "outputId": "4f256618-7f6a-484a-c257-8032a19ad6b3"
      },
      "execution_count": 10,
      "outputs": [
        {
          "output_type": "execute_result",
          "data": {
            "text/plain": [
              "['C', 'C++', 'JAVA', 'Python', 'Go', 'C#']"
            ]
          },
          "metadata": {},
          "execution_count": 10
        }
      ]
    },
    {
      "cell_type": "code",
      "source": [
        "nums = [1,2,3,4,5,6,7]\n",
        "print(\"max: {}\".format(max(nums)))\n",
        "print(\"min: {}\".format(min(nums)))"
      ],
      "metadata": {
        "colab": {
          "base_uri": "https://localhost:8080/"
        },
        "id": "Zs5XC0HEdzRr",
        "outputId": "b3c466e6-3f83-4a1d-b731-8b5faeb1224b"
      },
      "execution_count": 11,
      "outputs": [
        {
          "output_type": "stream",
          "name": "stdout",
          "text": [
            "max: 7\n",
            "min: 1\n"
          ]
        }
      ]
    },
    {
      "cell_type": "code",
      "source": [
        "nums = [1,2,3,4,5]\n",
        "print(sum(nums))"
      ],
      "metadata": {
        "colab": {
          "base_uri": "https://localhost:8080/"
        },
        "id": "qLgubpcWeFXl",
        "outputId": "f67dc17d-a408-4dd5-8782-9770b19dca83"
      },
      "execution_count": 12,
      "outputs": [
        {
          "output_type": "stream",
          "name": "stdout",
          "text": [
            "15\n"
          ]
        }
      ]
    },
    {
      "cell_type": "code",
      "source": [
        "cook = [\"피자\", \"김밥\", \"만두\", \"양념치킨\", \"족발\", \"피자\", \"김치만두\", \"쫄면\", \"소시지\", \"라면\", \"팥빙수\", \"김치전\"]\n",
        "\n",
        "print(len(cook))"
      ],
      "metadata": {
        "colab": {
          "base_uri": "https://localhost:8080/"
        },
        "id": "QLRelbGVeJss",
        "outputId": "846b41dd-c52b-4604-c7b9-f9228df5f7aa"
      },
      "execution_count": 13,
      "outputs": [
        {
          "output_type": "stream",
          "name": "stdout",
          "text": [
            "12\n"
          ]
        }
      ]
    },
    {
      "cell_type": "code",
      "source": [
        "nums = [1,2,3,4,5]\n",
        "print(sum(nums)/len(nums))"
      ],
      "metadata": {
        "colab": {
          "base_uri": "https://localhost:8080/"
        },
        "id": "WkHE1fZDeQfD",
        "outputId": "e30885b0-7f6c-4760-9df7-2673594248a7"
      },
      "execution_count": 14,
      "outputs": [
        {
          "output_type": "stream",
          "name": "stdout",
          "text": [
            "3.0\n"
          ]
        }
      ]
    },
    {
      "cell_type": "code",
      "source": [
        ""
      ],
      "metadata": {
        "id": "LDwSYTjeeWLl"
      },
      "execution_count": null,
      "outputs": []
    }
  ]
}