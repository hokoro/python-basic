{
  "nbformat": 4,
  "nbformat_minor": 0,
  "metadata": {
    "colab": {
      "name": "python_basic4.ipynb",
      "provenance": [],
      "authorship_tag": "ABX9TyMLC0n3asvXc5Jqm3Y99L+u",
      "include_colab_link": true
    },
    "kernelspec": {
      "name": "python3",
      "display_name": "Python 3"
    },
    "language_info": {
      "name": "python"
    }
  },
  "cells": [
    {
      "cell_type": "markdown",
      "metadata": {
        "id": "view-in-github",
        "colab_type": "text"
      },
      "source": [
        "<a href=\"https://colab.research.google.com/github/hokoro/python-basic/blob/main/python_basic4.ipynb\" target=\"_parent\"><img src=\"https://colab.research.google.com/assets/colab-badge.svg\" alt=\"Open In Colab\"/></a>"
      ]
    },
    {
      "cell_type": "code",
      "execution_count": 3,
      "metadata": {
        "colab": {
          "base_uri": "https://localhost:8080/"
        },
        "id": "coKH_ZLLRQ2h",
        "outputId": "e23977ab-2c93-4897-f42a-a249f6473ef4"
      },
      "outputs": [
        {
          "output_type": "stream",
          "name": "stdout",
          "text": [
            "p t\n"
          ]
        }
      ],
      "source": [
        "letters = 'python'\n",
        "print(letters[0], letters[2])"
      ]
    },
    {
      "cell_type": "code",
      "source": [
        "license_plate = \"24가 2210\"\n",
        "\n",
        "print(license_plate[4:])"
      ],
      "metadata": {
        "colab": {
          "base_uri": "https://localhost:8080/"
        },
        "id": "Pd-lijAwThu3",
        "outputId": "ff84c6e8-e715-4bf2-f9c3-be02f91e5585"
      },
      "execution_count": 4,
      "outputs": [
        {
          "output_type": "stream",
          "name": "stdout",
          "text": [
            "2210\n"
          ]
        }
      ]
    },
    {
      "cell_type": "code",
      "source": [
        "string = \"홀짝홀짝홀짝\"\n",
        "\n",
        "print(string[0::2])"
      ],
      "metadata": {
        "colab": {
          "base_uri": "https://localhost:8080/"
        },
        "id": "xmfFGa5xT9dt",
        "outputId": "a6b19952-e462-43f4-cc4a-abad999adcdf"
      },
      "execution_count": 5,
      "outputs": [
        {
          "output_type": "stream",
          "name": "stdout",
          "text": [
            "홀홀홀\n"
          ]
        }
      ]
    },
    {
      "cell_type": "code",
      "source": [
        "string = \"PYTHON\"\n",
        "\n",
        "print(string[::-1])"
      ],
      "metadata": {
        "colab": {
          "base_uri": "https://localhost:8080/"
        },
        "id": "3X6i8g8FUS5p",
        "outputId": "d6bdb8ea-2c6b-4b90-cbc2-312c9565c5da"
      },
      "execution_count": 6,
      "outputs": [
        {
          "output_type": "stream",
          "name": "stdout",
          "text": [
            "NOHTYP\n"
          ]
        }
      ]
    },
    {
      "cell_type": "code",
      "source": [
        "phone_number = \"010-1111-2222\"\n",
        "print(phone_number.replace('-',' '))"
      ],
      "metadata": {
        "colab": {
          "base_uri": "https://localhost:8080/"
        },
        "id": "PeBvMFK-UZBr",
        "outputId": "8a8272ac-101f-487e-b55d-920f4e70c96f"
      },
      "execution_count": 7,
      "outputs": [
        {
          "output_type": "stream",
          "name": "stdout",
          "text": [
            "010 1111 2222\n"
          ]
        }
      ]
    },
    {
      "cell_type": "code",
      "source": [
        "print(phone_number.replace('-',''))"
      ],
      "metadata": {
        "colab": {
          "base_uri": "https://localhost:8080/"
        },
        "id": "BgQ6ZdbqUso9",
        "outputId": "5989fc56-caff-4832-d914-c76376fc2a2e"
      },
      "execution_count": 8,
      "outputs": [
        {
          "output_type": "stream",
          "name": "stdout",
          "text": [
            "01011112222\n"
          ]
        }
      ]
    },
    {
      "cell_type": "code",
      "source": [
        "url = \"http://sharebook.kr\"\n",
        "\n",
        "print(url[-2:])"
      ],
      "metadata": {
        "colab": {
          "base_uri": "https://localhost:8080/"
        },
        "id": "qGVFSwJTVAWs",
        "outputId": "0fa5fc50-4c3c-4532-b895-0d7d12b20b70"
      },
      "execution_count": 10,
      "outputs": [
        {
          "output_type": "stream",
          "name": "stdout",
          "text": [
            "kr\n"
          ]
        }
      ]
    },
    {
      "cell_type": "code",
      "source": [
        "# lang = 'python'\n",
        "# lang[0] = 'P'\n",
        "# print(lang) # error 문자열은 할당 메서드를 지원하지 않는다 "
      ],
      "metadata": {
        "id": "iOHSUITbVG9W"
      },
      "execution_count": 12,
      "outputs": []
    },
    {
      "cell_type": "code",
      "source": [
        "string = 'abcdfe2a354a32a'\n",
        "\n",
        "print(string.replace('a','A'))"
      ],
      "metadata": {
        "colab": {
          "base_uri": "https://localhost:8080/"
        },
        "id": "LPlqrnsFVoXP",
        "outputId": "45853ff4-1322-4648-8e46-c7ade0033d03"
      },
      "execution_count": 13,
      "outputs": [
        {
          "output_type": "stream",
          "name": "stdout",
          "text": [
            "Abcdfe2A354A32A\n"
          ]
        }
      ]
    },
    {
      "cell_type": "code",
      "source": [
        "string = 'abcd'\n",
        "string.replace('b', 'B') # 저장 하지 않았기 떄문에 abcd 로 \n",
        "print(string) #aBcd"
      ],
      "metadata": {
        "colab": {
          "base_uri": "https://localhost:8080/"
        },
        "id": "iSNJWBmuV5Mr",
        "outputId": "33a4c12e-70c7-4be5-da13-fc6335ee008d"
      },
      "execution_count": 14,
      "outputs": [
        {
          "output_type": "stream",
          "name": "stdout",
          "text": [
            "abcd\n"
          ]
        }
      ]
    },
    {
      "cell_type": "code",
      "source": [
        ""
      ],
      "metadata": {
        "id": "SaWrm2eoWATI"
      },
      "execution_count": null,
      "outputs": []
    }
  ]
}